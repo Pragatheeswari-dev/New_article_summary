{
 "cells": [
  {
   "cell_type": "code",
   "execution_count": 1,
   "metadata": {},
   "outputs": [],
   "source": [
    "from langchain.document_loaders import UnstructuredURLLoader\n"
   ]
  },
  {
   "cell_type": "code",
   "execution_count": 2,
   "metadata": {},
   "outputs": [],
   "source": [
    "from langchain.text_splitter import RecursiveCharacterTextSplitter"
   ]
  },
  {
   "cell_type": "code",
   "execution_count": 3,
   "metadata": {},
   "outputs": [
    {
     "name": "stderr",
     "output_type": "stream",
     "text": [
      "/opt/conda/envs/newsummary/lib/python3.10/site-packages/tqdm/auto.py:21: TqdmWarning: IProgress not found. Please update jupyter and ipywidgets. See https://ipywidgets.readthedocs.io/en/stable/user_install.html\n",
      "  from .autonotebook import tqdm as notebook_tqdm\n"
     ]
    }
   ],
   "source": [
    "from transformers import pipeline"
   ]
  },
  {
   "cell_type": "code",
   "execution_count": 4,
   "metadata": {},
   "outputs": [],
   "source": [
    "from transformers import AutoTokenizer, AutoModelForSeq2SeqLM"
   ]
  },
  {
   "cell_type": "code",
   "execution_count": 6,
   "metadata": {},
   "outputs": [],
   "source": [
    "from transformers import BartTokenizerFast"
   ]
  },
  {
   "cell_type": "code",
   "execution_count": 7,
   "metadata": {},
   "outputs": [
    {
     "name": "stdout",
     "output_type": "stream",
     "text": [
      "calling tokenizer....\n",
      "calling model.....\n",
      "model loaded....\n",
      "1\n",
      "11\n",
      "Summary 1:  Two new subvariants of Covid are ripping through multiple states, forcing health officials to call for masks to stem transmission. Residents across one state have been urged to wear a mask if they show Covid symptoms as a new wave of infection sweeps parts of the country. New South Wales has recorded its highest level of the virus in a year, with more than 17 per cent of PCR tests returning positive results. NSW Health is yet to release their report for the New Year, with increasing numbers of cases across the state.\n",
      "1\n",
      "13\n",
      "Summary 2:  Liquidator of collapsed building firm alleges director was loaned nearly $1 million in company money according to public liquidator’s report. The regulator, ASIC, has not taken action against the director under the Corporations Act.Iconic Aussie retailer to close forever. Selena Gomez’S $3 billion beauty move. The Australian dollar dips before blockbuster US meeting. The Aussie dollar falls to a record low against the US dollar. The Sydney Opera House is set to open for its 50th anniversary.\n"
     ]
    }
   ],
   "source": [
    "print(\"calling tokenizer....\")\n",
    "tokenizer = AutoTokenizer.from_pretrained(\"facebook/bart-large-cnn\")\n",
    "print(\"calling model.....\")\n",
    "model = AutoModelForSeq2SeqLM.from_pretrained(\"facebook/bart-large-cnn\")\n",
    "print(\"model loaded....\")\n",
    "\n",
    "def get_summary(final_text):\n",
    "  pipe_sum = pipeline(\n",
    "        'summarization',\n",
    "        model = model,\n",
    "        tokenizer = tokenizer\n",
    "        )\n",
    "  result = pipe_sum(final_text,\n",
    "                    max_length = 1024, \n",
    "                    min_length = 100,\n",
    "                    do_sample=False,\n",
    "                    truncation=True)\n",
    "  result = result[0]['summary_text']\n",
    "  \n",
    "  return result\n",
    "\n",
    "def text_preprocessing(u):\n",
    "  loaders = UnstructuredURLLoader(u)\n",
    "  data = loaders.load()\n",
    "  print(len(data))\n",
    "  text_splitter = RecursiveCharacterTextSplitter(\n",
    "      chunk_size=1000,\n",
    "      chunk_overlap=200\n",
    "      )\n",
    "  # As data is of type documents we can directly use split_documents over split_text in order to get the chunks.\n",
    "  docs = text_splitter.split_documents(data)\n",
    "  print(len(docs))\n",
    "  final_texts = \"\"\n",
    "  for i in range(0,len(docs)):\n",
    "    #print(i,\" : \", input_text[i].page_content)\n",
    "    final_texts = final_texts + docs[i].page_content\n",
    "    #print(\"final_texts : \", final_texts)\n",
    "  return final_texts\n",
    "\n",
    "urls_1=[\n",
    "    \"https://www.news.com.au/world/coronavirus/health/wear-a-mask-nsw-health-responds-to-a-rise-in-cases-in-light-of-new-subvariant-strains/news-story/90cad04f2a329d8730871c00b3dd00cc\"\n",
    "    ]\n",
    "\n",
    "# for i in range(0,len(urls)):\n",
    "#   print(urls[i])\n",
    "#   r = text_preprocessing(urls[i])\n",
    "\n",
    "final_text_1 = text_preprocessing(urls_1)\n",
    "#get_summary( final_text_1)\n",
    "print(\"Summary 1: \",get_summary(final_text_1))\n",
    "\n",
    "urls_2 =[\n",
    "    \"https://www.news.com.au/finance/business/other-industries/liquidator-of-collapsed-building-firm-alleges-director-was-loaned-nearly-1-million-in-company-money/news-story/493daf5d91f6a6b1267d542d6fa5b184\"\n",
    "    ]\n",
    "final_text_2 = text_preprocessing(urls_2)\n",
    "print(\"Summary 2: \",get_summary(final_text_2))"
   ]
  },
  {
   "cell_type": "code",
   "execution_count": 8,
   "metadata": {},
   "outputs": [
    {
     "name": "stdout",
     "output_type": "stream",
     "text": [
      "URL : <class 'list'>    ['https://www.news.com.au/world/coronavirus/health/wear-a-mask-nsw-health-responds-to-a-rise-in-cases-in-light-of-new-subvariant-strains/news-story/90cad04f2a329d8730871c00b3dd00cc']\n",
      "1\n",
      "11\n",
      "Summary 1:  Two new subvariants of Covid are ripping through multiple states, forcing health officials to call for masks to stem transmission. Residents across one state have been urged to wear a mask if they show Covid symptoms as a new wave of infection sweeps parts of the country. New South Wales has recorded its highest level of the virus in a year, with more than 17 per cent of PCR tests returning positive results. NSW Health is yet to release their report for the New Year, with increasing numbers of cases across the state.\n",
      "1\n",
      "13\n",
      "Summary 2:  Liquidator of collapsed building firm alleges director was loaned nearly $1 million in company money according to public liquidator’s report. The regulator, ASIC, has not taken action against the director under the Corporations Act.Iconic Aussie retailer to close forever. Selena Gomez’S $3 billion beauty move. The Australian dollar dips before blockbuster US meeting. The Aussie dollar falls to a record low against the US dollar. The Sydney Opera House is set to open for its 50th anniversary.\n"
     ]
    }
   ],
   "source": [
    "# print(\"calling tokenizer....\")\n",
    "# tokenizer = AutoTokenizer.from_pretrained(\"facebook/bart-large-cnn\")\n",
    "# print(\"calling model.....\")\n",
    "# model = AutoModelForSeq2SeqLM.from_pretrained(\"facebook/bart-large-cnn\")\n",
    "# print(\"model loaded....\")\n",
    "\n",
    "def get_summary(final_text):\n",
    "#   pipe_sum = pipeline(\n",
    "#         'summarization',\n",
    "#         model = model,\n",
    "#         tokenizer = tokenizer\n",
    "#         )\n",
    "  summarizer = pipeline(\"summarization\", model=\"facebook/bart-large-cnn\")\n",
    "\n",
    "  result = summarizer(final_text,\n",
    "                    max_length = 1024, \n",
    "                    min_length = 100,\n",
    "                    do_sample=False,\n",
    "                    truncation=True)\n",
    "  result = result[0]['summary_text']\n",
    "  \n",
    "  return result\n",
    "\n",
    "def text_preprocessing(u):\n",
    "  loaders = UnstructuredURLLoader(u)\n",
    "  data = loaders.load()\n",
    "  print(len(data))\n",
    "  text_splitter = RecursiveCharacterTextSplitter(\n",
    "      chunk_size=1000,\n",
    "      chunk_overlap=200\n",
    "      )\n",
    "  # As data is of type documents we can directly use split_documents over split_text in order to get the chunks.\n",
    "  docs = text_splitter.split_documents(data)\n",
    "  print(len(docs))\n",
    "  final_texts = \"\"\n",
    "  for i in range(0,len(docs)):\n",
    "    #print(i,\" : \", input_text[i].page_content)\n",
    "    final_texts = final_texts + docs[i].page_content\n",
    "    #print(\"final_texts : \", final_texts)\n",
    "  return final_texts\n",
    "\n",
    "urls_1=[\n",
    "    \"https://www.news.com.au/world/coronavirus/health/wear-a-mask-nsw-health-responds-to-a-rise-in-cases-in-light-of-new-subvariant-strains/news-story/90cad04f2a329d8730871c00b3dd00cc\"\n",
    "    ]\n",
    "\n",
    "# for i in range(0,len(urls)):\n",
    "#   print(urls[i])\n",
    "#   r = text_preprocessing(urls[i])\n",
    "print(\"URL :\", type(urls_1), \"  \", urls_1)\n",
    "final_text_1 = text_preprocessing(urls_1)\n",
    "#get_summary( final_text_1)\n",
    "print(\"Summary 1: \",get_summary(final_text_1))\n",
    "\n",
    "urls_2 =[\n",
    "    \"https://www.news.com.au/finance/business/other-industries/liquidator-of-collapsed-building-firm-alleges-director-was-loaned-nearly-1-million-in-company-money/news-story/493daf5d91f6a6b1267d542d6fa5b184\"\n",
    "    ]\n",
    "final_text_2 = text_preprocessing(urls_2)\n",
    "print(\"Summary 2: \",get_summary(final_text_2))"
   ]
  },
  {
   "cell_type": "code",
   "execution_count": null,
   "metadata": {},
   "outputs": [],
   "source": []
  }
 ],
 "metadata": {
  "kernelspec": {
   "display_name": "Python 3",
   "language": "python",
   "name": "python3"
  },
  "language_info": {
   "codemirror_mode": {
    "name": "ipython",
    "version": 3
   },
   "file_extension": ".py",
   "mimetype": "text/x-python",
   "name": "python",
   "nbconvert_exporter": "python",
   "pygments_lexer": "ipython3",
   "version": "3.10.12"
  }
 },
 "nbformat": 4,
 "nbformat_minor": 2
}
